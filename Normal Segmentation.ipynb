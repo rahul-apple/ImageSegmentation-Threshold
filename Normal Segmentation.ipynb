{
 "cells": [
  {
   "cell_type": "markdown",
   "metadata": {},
   "source": [
    "# IMAGE SEGMENTATION"
   ]
  },
  {
   "cell_type": "code",
   "execution_count": 36,
   "metadata": {},
   "outputs": [],
   "source": [
    "import argparse\n",
    "import cv2\n",
    "import numpy as np\n",
    "import matplotlib.pyplot as plt"
   ]
  },
  {
   "cell_type": "code",
   "execution_count": 37,
   "metadata": {},
   "outputs": [],
   "source": [
    "# load the image and convert it to grayscale\n",
    "image = cv2.imread(\"/Users/rahulr/Downloads/us_images/09-49-17_1.jpg\")\n",
    "gray = cv2.cvtColor(image, cv2.COLOR_BGR2GRAY)\n",
    "threshold = 60"
   ]
  },
  {
   "cell_type": "code",
   "execution_count": 38,
   "metadata": {},
   "outputs": [],
   "source": [
    "# initialize the list of threshold methods\n",
    "methods = [\n",
    "\t(\"THRESH_BINARY\", cv2.THRESH_BINARY),\n",
    "\t(\"THRESH_BINARY_INV\", cv2.THRESH_BINARY_INV),\n",
    "\t(\"THRESH_TRUNC\", cv2.THRESH_TRUNC),\n",
    "\t(\"THRESH_TOZERO\", cv2.THRESH_TOZERO),\n",
    "\t(\"THRESH_TOZERO_INV\", cv2.THRESH_TOZERO_INV)]"
   ]
  },
  {
   "cell_type": "code",
   "execution_count": null,
   "metadata": {},
   "outputs": [
    {
     "data": {
      "image/png": "[encoded data removed]",
      "text/plain": [
       "<Figure size 432x288 with 1 Axes>"
      ]
     },
     "metadata": {
      "needs_background": "light"
     },
     "output_type": "display_data"
    }
   ],
   "source": [
    "# loop over the threshold methods\n",
    "for (threshName, threshMethod) in methods:\n",
    "    # threshold the image and show it\n",
    "    (T, thresh) = cv2.threshold(gray, threshold, 255, threshMethod)\n",
    "    imgplot = plt.imshow(thresh)\n",
    "    plt.show()\n",
    "    # \tcv2.imshow(threshName, thresh)\n",
    "    cv2.imwrite(\"Output-\" + threshName + \".jpg\", thresh)\n",
    "    cv2.waitKey(0)"
   ]
  },
  {
   "cell_type": "code",
   "execution_count": null,
   "metadata": {},
   "outputs": [],
   "source": [
    "cv2.imshow(\"Gray Image\", gray)\n",
    "# plt.imshow(gray)\n",
    "# plt.show()"
   ]
  },
  {
   "cell_type": "code",
   "execution_count": null,
   "metadata": {},
   "outputs": [],
   "source": [
    "# Applying Gaussian blur with kernel size 7 to remove unwanted noise\n",
    "# blurred_image = cv2.GaussianBlur(gray,(7,7),0)"
   ]
  },
  {
   "cell_type": "code",
   "execution_count": null,
   "metadata": {},
   "outputs": [],
   "source": [
    "# plt.imshow(blurred_image)\n",
    "# plt.show()"
   ]
  },
  {
   "cell_type": "code",
   "execution_count": null,
   "metadata": {},
   "outputs": [],
   "source": [
    "# Applying Otsu's thresholding to binarize the image\n",
    "retval ,binarized_image = cv2.threshold(gray,40,80,cv2.THRESH_BINARY)"
   ]
  },
  {
   "cell_type": "code",
   "execution_count": null,
   "metadata": {},
   "outputs": [],
   "source": [
    "plt.imshow(binarized_image)\n",
    "plt.show()\n",
    "plt.imshow(image)\n",
    "plt.show()"
   ]
  },
  {
   "cell_type": "code",
   "execution_count": null,
   "metadata": {},
   "outputs": [],
   "source": [
    "# Applying Closing to fill in the holes\n",
    "filter = np.ones((3,3),np.uint8)\n",
    "closed_image = cv2.morphologyEx(binarized_image, cv2.MORPH_CLOSE, filter)"
   ]
  },
  {
   "cell_type": "code",
   "execution_count": null,
   "metadata": {},
   "outputs": [],
   "source": [
    "plt.imshow(closed_image)\n",
    "plt.show()"
   ]
  },
  {
   "cell_type": "code",
   "execution_count": null,
   "metadata": {},
   "outputs": [],
   "source": [
    "# Using connected components to label the image\n",
    "retval, markers = cv2.connectedComponents(closed_image)\n",
    "\n",
    "# Mapping the component labels to hue val\n",
    "label_hue = np.uint8(120*markers/np.max(markers))\n",
    "blank_ch = 255*np.ones_like(label_hue)\n",
    "labeled_image = cv2.merge([label_hue, blank_ch, blank_ch])\n",
    "\n",
    "# changing from HSV to RGB again to show\n",
    "labeled_image = cv2.cvtColor(labeled_image, cv2.COLOR_HSV2BGR)\n",
    "\n",
    "# background label set to black\n",
    "labeled_image[label_hue==0] = 0\n",
    "\n",
    "# getting the unique colors in the image\n",
    "unique_colors = np.unique(labeled_image.reshape(-1, labeled_image.shape[2]), axis=0)\n",
    "\n",
    "print (\"'Colors available in labeled image:'\")\n",
    "for x in range(unique_colors.shape[0]):\n",
    "    print (str(x+1)+\"=> B:\"+str(unique_colors[x,0])+\"    G:\"+str(unique_colors[x,1])+\"   R:\"+str(unique_colors[x,2])+\" \")\n",
    "\n",
    "print (\"\\nSelect one of the colors and give its RGB values \")\n",
    "\n",
    "r = input(\"B : \")\n",
    "g = input(\"G : \")\n",
    "b = input(\"R : \")\n"
   ]
  },
  {
   "cell_type": "code",
   "execution_count": null,
   "metadata": {},
   "outputs": [],
   "source": [
    "# making an output image\n",
    "output_image = np.zeros_like(labeled_image)\n",
    "\n",
    "# getting the object of user input color\n",
    "for x in range(labeled_image.shape[0]):\n",
    "    for y in range(labeled_image.shape[1]):\n",
    "        if (labeled_image[x,y,0] == int(r) and labeled_image[x,y,1] == int(g) and labeled_image[x,y,2] == int(b)):\n",
    "            output_image[x,y,0:3] = labeled_image[x,y,0:3]\n",
    "\n",
    "# show the output image\n",
    "# cv2.imshow(\"Selected\", labeled_image)\n",
    "# cv2.waitKey(0)\n"
   ]
  },
  {
   "cell_type": "code",
   "execution_count": null,
   "metadata": {},
   "outputs": [],
   "source": [
    "plt.imshow(markers)\n",
    "plt.show()"
   ]
  },
  {
   "cell_type": "code",
   "execution_count": null,
   "metadata": {},
   "outputs": [],
   "source": []
  }
 ],
 "metadata": {
  "kernelspec": {
   "display_name": "Python 3",
   "language": "python",
   "name": "python3"
  },
  "language_info": {
   "codemirror_mode": {
    "name": "ipython",
    "version": 3
   },
   "file_extension": ".py",
   "mimetype": "text/x-python",
   "name": "python",
   "nbconvert_exporter": "python",
   "pygments_lexer": "ipython3",
   "version": "3.6.5"
  }
 },
 "nbformat": 4,
 "nbformat_minor": 2
}
