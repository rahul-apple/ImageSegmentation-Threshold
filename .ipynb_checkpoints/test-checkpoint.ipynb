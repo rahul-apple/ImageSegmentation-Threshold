{
 "cells": [
  {
   "cell_type": "code",
   "execution_count": null,
   "metadata": {},
   "outputs": [],
   "source": [
    "right_html_str = \"\"\"<tr style=\"height: 0pt;\">\n",
    "<td style=\"vertical-align: top; padding: 5pt 5pt 5pt 5pt;\">\n",
    "<p style=\"line-height: 1.2; margin-top: 0pt; margin-bottom: 0pt; text-align: right;\"><em><span style=\"font-size: 12pt; font-family: Comfortaa; color: #000000; background-color: transparent; font-weight: 400; font-variant: normal; text-decoration: none; vertical-align: baseline; white-space: pre-wrap;\">{text_content}</span></em></p>\n",
    "</td>\n",
    "</tr>\n",
    "\"\"\"\n",
    "left_html_str = \"\"\"<tr style=\"height: 0pt;\">\n",
    "<td style=\"vertical-align: top; padding: 5pt 5pt 5pt 5pt;\">\n",
    "<p style=\"line-height: 1.2; margin-top: 0pt; margin-bottom: 0pt;\"><span style=\"font-size: 11pt; font-family: Comfortaa; color: #222222; background-color: #ffffff; font-weight: 400; font-variant: normal; text-decoration: none; vertical-align: baseline; white-space: pre-wrap;\">{text_content}</span></p>\n",
    "</td>\n",
    "</tr>\"\"\""
   ]
  }
 ],
 "metadata": {
  "kernelspec": {
   "display_name": "Python 3",
   "language": "python",
   "name": "python3"
  },
  "language_info": {
   "codemirror_mode": {
    "name": "ipython",
    "version": 3
   },
   "file_extension": ".py",
   "mimetype": "text/x-python",
   "name": "python",
   "nbconvert_exporter": "python",
   "pygments_lexer": "ipython3",
   "version": "3.6.5"
  }
 },
 "nbformat": 4,
 "nbformat_minor": 2
}
