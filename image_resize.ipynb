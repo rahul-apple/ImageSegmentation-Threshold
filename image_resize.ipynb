{
 "cells": [
  {
   "cell_type": "code",
   "execution_count": 10,
   "metadata": {},
   "outputs": [],
   "source": [
    "import cv2\n",
    "import numpy as np\n",
    "import matplotlib.pyplot as plt\n",
    "from wand.image import Image\n",
    "import os\n",
    "from os import listdir\n",
    "from os.path import isfile, join"
   ]
  },
  {
   "cell_type": "code",
   "execution_count": 11,
   "metadata": {},
   "outputs": [],
   "source": [
    "folder = \"/Users/rahulr/Desktop/Python_Sample/threshold/cats/\"\n",
    "images = [f for f in listdir(folder) if isfile(join(folder, f))]\n"
   ]
  },
  {
   "cell_type": "code",
   "execution_count": 12,
   "metadata": {},
   "outputs": [],
   "source": [
    "def image_resize(image, width = None, height = None, inter = cv2.INTER_AREA):\n",
    "    # initialize the dimensions of the image to be resized and\n",
    "    # grab the image size\n",
    "    dim = None\n",
    "    (h, w) = image.shape[:2]\n",
    "\n",
    "    # if both the width and height are None, then return the\n",
    "    # original image\n",
    "    if width is None and height is None:\n",
    "        return image\n",
    "\n",
    "    # check to see if the width is None\n",
    "    if width is None:\n",
    "        # calculate the ratio of the height and construct the\n",
    "        # dimensions\n",
    "        r = height / float(h)\n",
    "        dim = (int(w * r), height)\n",
    "\n",
    "    # otherwise, the height is None\n",
    "    else:\n",
    "        # calculate the ratio of the width and construct the\n",
    "        # dimensions\n",
    "        r = width / float(w)\n",
    "        dim = (width, int(h * r))\n",
    "\n",
    "    # resize the image\n",
    "    resized = cv2.resize(image, dim, interpolation = inter)\n",
    "\n",
    "    # return the resized image\n",
    "    return resized\n"
   ]
  },
  {
   "cell_type": "code",
   "execution_count": 13,
   "metadata": {},
   "outputs": [
    {
     "name": "stdout",
     "output_type": "stream",
     "text": [
      "Deleted File:/Users/rahulr/Desktop/Python_Sample/threshold/cats/cat48.JPG\n",
      "Deleted File:/Users/rahulr/Desktop/Python_Sample/threshold/cats/cat43.jpeg\n",
      "Deleted File:/Users/rahulr/Desktop/Python_Sample/threshold/cats/cat42.jpeg\n",
      "Deleted File:/Users/rahulr/Desktop/Python_Sample/threshold/cats/cat1.jpeg\n",
      "Deleted File:/Users/rahulr/Desktop/Python_Sample/threshold/cats/cat15.jpeg\n",
      "Deleted File:/Users/rahulr/Desktop/Python_Sample/threshold/cats/cat29.png\n",
      "Deleted File:/Users/rahulr/Desktop/Python_Sample/threshold/cats/cat38.png\n",
      "Deleted File:/Users/rahulr/Desktop/Python_Sample/threshold/cats/cat47.jpeg\n"
     ]
    }
   ],
   "source": [
    "for image in images:\n",
    "    if \".jpg\" in image:\n",
    "        img = cv2.imread(folder+image)\n",
    "        if img is not None:\n",
    "#             resized_img = cv2.resize(img, (500,500), interpolation = cv2.INTER_AREA)\n",
    "            resized_img = image_resize(img, width=500)\n",
    "            cv2.imwrite(folder+image, resized_img)\n",
    "        else:\n",
    "            os.remove(folder+image)\n",
    "            print(\"Deleted File:\" + folder + image)\n",
    "    else:\n",
    "        os.remove(folder+image)\n",
    "        print(\"Deleted File:\" + folder + image)\n",
    "            "
   ]
  },
  {
   "cell_type": "code",
   "execution_count": null,
   "metadata": {},
   "outputs": [],
   "source": []
  }
 ],
 "metadata": {
  "kernelspec": {
   "display_name": "Python 3",
   "language": "python",
   "name": "python3"
  },
  "language_info": {
   "codemirror_mode": {
    "name": "ipython",
    "version": 3
   },
   "file_extension": ".py",
   "mimetype": "text/x-python",
   "name": "python",
   "nbconvert_exporter": "python",
   "pygments_lexer": "ipython3",
   "version": "3.6.5"
  }
 },
 "nbformat": 4,
 "nbformat_minor": 2
}
