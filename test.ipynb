{
 "cells": [
  {
   "cell_type": "code",
   "execution_count": 1,
   "metadata": {},
   "outputs": [],
   "source": [
    "right_html_str = \"\"\"<tr style=\"height: 0pt;\">\n",
    "<td style=\"vertical-align: top; padding: 5pt 5pt 5pt 5pt;\">\n",
    "<p style=\"line-height: 1.2; margin-top: 0pt; margin-bottom: 0pt; text-align: right;\"><em><span style=\"font-size: 12pt; font-family: Comfortaa; color: #000000; background-color: transparent; font-weight: 400; font-variant: normal; text-decoration: none; vertical-align: baseline; white-space: pre-wrap;\">{text_content}</span></em></p>\n",
    "</td>\n",
    "</tr>\n",
    "\"\"\"\n",
    "left_html_str = \"\"\"<tr style=\"height: 0pt;\">\n",
    "<td style=\"vertical-align: top; padding: 5pt 5pt 5pt 5pt;\">\n",
    "<p style=\"line-height: 1.2; margin-top: 0pt; margin-bottom: 0pt;\"><span style=\"font-size: 11pt; font-family: Comfortaa; color: #222222; background-color: #ffffff; font-weight: 400; font-variant: normal; text-decoration: none; vertical-align: baseline; white-space: pre-wrap;\">{text_content}</span></p>\n",
    "</td>\n",
    "</tr>\"\"\"\n",
    "wrapper_str = \"\"\"<p><br /><br /></p>\n",
    "<table style=\"border: none; border-collapse: collapse; width: 468pt;\">\n",
    "<tbody>\n",
    "{tr_body}\n",
    "</tbody>\n",
    "</table>\n",
    "<p>&nbsp;</p>\"\"\""
   ]
  },
  {
   "cell_type": "code",
   "execution_count": 2,
   "metadata": {},
   "outputs": [],
   "source": [
    "conversation = \"\"\"\n",
    "open airo assistant\n",
    "\n",
    "Welcome Back,How may I assist you?\n",
    "\n",
    "i need assistance\n",
    "\n",
    "Hi David, What Can I Help you with? You Can Say Care Emergency Entertainment\n",
    "\n",
    "care\n",
    "\n",
    "How do you feel?\n",
    "\n",
    "nausy\n",
    "\n",
    "What are the symptoms\n",
    "\n",
    "pain on my left arm\n",
    "\n",
    "Whats your temperature?\n",
    "\n",
    "thirty seven\n",
    "\n",
    "Your Report will be notified to the CareTaker,Thank you for using the AIRO Assistant\n",
    "\"\"\""
   ]
  },
  {
   "cell_type": "code",
   "execution_count": 3,
   "metadata": {},
   "outputs": [],
   "source": [
    "array = conversation.splitlines( )\n",
    "nonempty = list(filter(lambda x: x != '', array))"
   ]
  },
  {
   "cell_type": "code",
   "execution_count": 4,
   "metadata": {},
   "outputs": [
    {
     "data": {
      "text/plain": [
       "['open airo assistant',\n",
       " 'Welcome Back,How may I assist you?',\n",
       " 'i need assistance',\n",
       " 'Hi David, What Can I Help you with? You Can Say Care Emergency Entertainment',\n",
       " 'care',\n",
       " 'How do you feel?',\n",
       " 'nausy',\n",
       " 'What are the symptoms',\n",
       " 'pain on my left arm',\n",
       " 'Whats your temperature?',\n",
       " 'thirty seven',\n",
       " 'Your Report will be notified to the CareTaker,Thank you for using the AIRO Assistant']"
      ]
     },
     "execution_count": 4,
     "metadata": {},
     "output_type": "execute_result"
    }
   ],
   "source": [
    "nonempty"
   ]
  },
  {
   "cell_type": "code",
   "execution_count": 5,
   "metadata": {},
   "outputs": [],
   "source": [
    "lines = []\n",
    "for idx, conv in enumerate(nonempty):\n",
    "    if idx%2 == 0:\n",
    "        lines.append(right_html_str.replace('{text_content}',conv))\n",
    "    else:\n",
    "        lines.append(left_html_str.replace('{text_content}',conv))\n",
    "        \n",
    "    "
   ]
  },
  {
   "cell_type": "code",
   "execution_count": 6,
   "metadata": {},
   "outputs": [],
   "source": [
    "story = '\\n'.join(lines)\n",
    "result = wrapper_str.replace('{tr_body}',story)"
   ]
  },
  {
   "cell_type": "code",
   "execution_count": 7,
   "metadata": {},
   "outputs": [
    {
     "name": "stdout",
     "output_type": "stream",
     "text": [
      "<p><br /><br /></p>\n",
      "<table style=\"border: none; border-collapse: collapse; width: 468pt;\">\n",
      "<tbody>\n",
      "<tr style=\"height: 0pt;\">\n",
      "<td style=\"vertical-align: top; padding: 5pt 5pt 5pt 5pt;\">\n",
      "<p style=\"line-height: 1.2; margin-top: 0pt; margin-bottom: 0pt; text-align: right;\"><em><span style=\"font-size: 12pt; font-family: Comfortaa; color: #000000; background-color: transparent; font-weight: 400; font-variant: normal; text-decoration: none; vertical-align: baseline; white-space: pre-wrap;\">open airo assistant</span></em></p>\n",
      "</td>\n",
      "</tr>\n",
      "\n",
      "<tr style=\"height: 0pt;\">\n",
      "<td style=\"vertical-align: top; padding: 5pt 5pt 5pt 5pt;\">\n",
      "<p style=\"line-height: 1.2; margin-top: 0pt; margin-bottom: 0pt;\"><span style=\"font-size: 11pt; font-family: Comfortaa; color: #222222; background-color: #ffffff; font-weight: 400; font-variant: normal; text-decoration: none; vertical-align: baseline; white-space: pre-wrap;\">Welcome Back,How may I assist you?</span></p>\n",
      "</td>\n",
      "</tr>\n",
      "<tr style=\"height: 0pt;\">\n",
      "<td style=\"vertical-align: top; padding: 5pt 5pt 5pt 5pt;\">\n",
      "<p style=\"line-height: 1.2; margin-top: 0pt; margin-bottom: 0pt; text-align: right;\"><em><span style=\"font-size: 12pt; font-family: Comfortaa; color: #000000; background-color: transparent; font-weight: 400; font-variant: normal; text-decoration: none; vertical-align: baseline; white-space: pre-wrap;\">i need assistance</span></em></p>\n",
      "</td>\n",
      "</tr>\n",
      "\n",
      "<tr style=\"height: 0pt;\">\n",
      "<td style=\"vertical-align: top; padding: 5pt 5pt 5pt 5pt;\">\n",
      "<p style=\"line-height: 1.2; margin-top: 0pt; margin-bottom: 0pt;\"><span style=\"font-size: 11pt; font-family: Comfortaa; color: #222222; background-color: #ffffff; font-weight: 400; font-variant: normal; text-decoration: none; vertical-align: baseline; white-space: pre-wrap;\">Hi David, What Can I Help you with? You Can Say Care Emergency Entertainment</span></p>\n",
      "</td>\n",
      "</tr>\n",
      "<tr style=\"height: 0pt;\">\n",
      "<td style=\"vertical-align: top; padding: 5pt 5pt 5pt 5pt;\">\n",
      "<p style=\"line-height: 1.2; margin-top: 0pt; margin-bottom: 0pt; text-align: right;\"><em><span style=\"font-size: 12pt; font-family: Comfortaa; color: #000000; background-color: transparent; font-weight: 400; font-variant: normal; text-decoration: none; vertical-align: baseline; white-space: pre-wrap;\">care</span></em></p>\n",
      "</td>\n",
      "</tr>\n",
      "\n",
      "<tr style=\"height: 0pt;\">\n",
      "<td style=\"vertical-align: top; padding: 5pt 5pt 5pt 5pt;\">\n",
      "<p style=\"line-height: 1.2; margin-top: 0pt; margin-bottom: 0pt;\"><span style=\"font-size: 11pt; font-family: Comfortaa; color: #222222; background-color: #ffffff; font-weight: 400; font-variant: normal; text-decoration: none; vertical-align: baseline; white-space: pre-wrap;\">How do you feel?</span></p>\n",
      "</td>\n",
      "</tr>\n",
      "<tr style=\"height: 0pt;\">\n",
      "<td style=\"vertical-align: top; padding: 5pt 5pt 5pt 5pt;\">\n",
      "<p style=\"line-height: 1.2; margin-top: 0pt; margin-bottom: 0pt; text-align: right;\"><em><span style=\"font-size: 12pt; font-family: Comfortaa; color: #000000; background-color: transparent; font-weight: 400; font-variant: normal; text-decoration: none; vertical-align: baseline; white-space: pre-wrap;\">nausy</span></em></p>\n",
      "</td>\n",
      "</tr>\n",
      "\n",
      "<tr style=\"height: 0pt;\">\n",
      "<td style=\"vertical-align: top; padding: 5pt 5pt 5pt 5pt;\">\n",
      "<p style=\"line-height: 1.2; margin-top: 0pt; margin-bottom: 0pt;\"><span style=\"font-size: 11pt; font-family: Comfortaa; color: #222222; background-color: #ffffff; font-weight: 400; font-variant: normal; text-decoration: none; vertical-align: baseline; white-space: pre-wrap;\">What are the symptoms</span></p>\n",
      "</td>\n",
      "</tr>\n",
      "<tr style=\"height: 0pt;\">\n",
      "<td style=\"vertical-align: top; padding: 5pt 5pt 5pt 5pt;\">\n",
      "<p style=\"line-height: 1.2; margin-top: 0pt; margin-bottom: 0pt; text-align: right;\"><em><span style=\"font-size: 12pt; font-family: Comfortaa; color: #000000; background-color: transparent; font-weight: 400; font-variant: normal; text-decoration: none; vertical-align: baseline; white-space: pre-wrap;\">pain on my left arm</span></em></p>\n",
      "</td>\n",
      "</tr>\n",
      "\n",
      "<tr style=\"height: 0pt;\">\n",
      "<td style=\"vertical-align: top; padding: 5pt 5pt 5pt 5pt;\">\n",
      "<p style=\"line-height: 1.2; margin-top: 0pt; margin-bottom: 0pt;\"><span style=\"font-size: 11pt; font-family: Comfortaa; color: #222222; background-color: #ffffff; font-weight: 400; font-variant: normal; text-decoration: none; vertical-align: baseline; white-space: pre-wrap;\">Whats your temperature?</span></p>\n",
      "</td>\n",
      "</tr>\n",
      "<tr style=\"height: 0pt;\">\n",
      "<td style=\"vertical-align: top; padding: 5pt 5pt 5pt 5pt;\">\n",
      "<p style=\"line-height: 1.2; margin-top: 0pt; margin-bottom: 0pt; text-align: right;\"><em><span style=\"font-size: 12pt; font-family: Comfortaa; color: #000000; background-color: transparent; font-weight: 400; font-variant: normal; text-decoration: none; vertical-align: baseline; white-space: pre-wrap;\">thirty seven</span></em></p>\n",
      "</td>\n",
      "</tr>\n",
      "\n",
      "<tr style=\"height: 0pt;\">\n",
      "<td style=\"vertical-align: top; padding: 5pt 5pt 5pt 5pt;\">\n",
      "<p style=\"line-height: 1.2; margin-top: 0pt; margin-bottom: 0pt;\"><span style=\"font-size: 11pt; font-family: Comfortaa; color: #222222; background-color: #ffffff; font-weight: 400; font-variant: normal; text-decoration: none; vertical-align: baseline; white-space: pre-wrap;\">Your Report will be notified to the CareTaker,Thank you for using the AIRO Assistant</span></p>\n",
      "</td>\n",
      "</tr>\n",
      "</tbody>\n",
      "</table>\n",
      "<p>&nbsp;</p>\n"
     ]
    }
   ],
   "source": [
    "print(result)"
   ]
  },
  {
   "cell_type": "code",
   "execution_count": null,
   "metadata": {},
   "outputs": [],
   "source": []
  }
 ],
 "metadata": {
  "kernelspec": {
   "display_name": "Python 3",
   "language": "python",
   "name": "python3"
  },
  "language_info": {
   "codemirror_mode": {
    "name": "ipython",
    "version": 3
   },
   "file_extension": ".py",
   "mimetype": "text/x-python",
   "name": "python",
   "nbconvert_exporter": "python",
   "pygments_lexer": "ipython3",
   "version": "3.6.5"
  }
 },
 "nbformat": 4,
 "nbformat_minor": 2
}
